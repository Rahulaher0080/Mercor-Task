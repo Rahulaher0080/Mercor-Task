{
 "cells": [
  {
   "cell_type": "markdown",
   "id": "2f6a9656",
   "metadata": {},
   "source": [
    "## Step1"
   ]
  },
  {
   "cell_type": "code",
   "execution_count": 1,
   "id": "1a01ff18",
   "metadata": {},
   "outputs": [
    {
     "name": "stdout",
     "output_type": "stream",
     "text": [
      "Final-Health-Insurance\n",
      "fish_weight\n",
      "Medical_insurance\n",
      "rahul_health_insuarance\n",
      "rahul_project\n",
      "rahul_project3\n"
     ]
    }
   ],
   "source": [
    "import requests\n",
    "\n",
    "def fetch_user_repositories(github_url):\n",
    "    # Extract the username from the GitHub URL\n",
    "    username = extract_username(github_url)\n",
    "\n",
    "    # Make a GET request to the GitHub API\n",
    "    api_url = f\"https://api.github.com/users/{username}/repos\"\n",
    "    response = requests.get(api_url)\n",
    "\n",
    "    # Check if the request was successful\n",
    "    if response.status_code == 200:\n",
    "        repositories = response.json()\n",
    "        return repositories\n",
    "    else:\n",
    "        # Handle API request error\n",
    "        print(f\"Failed to fetch repositories for {username}. Error: {response.status_code}\")\n",
    "        return None\n",
    "\n",
    "def extract_username(github_url):\n",
    "    # Parse the URL to extract the username\n",
    "    username = github_url.strip(\"/\").split(\"/\")[-1]\n",
    "    return username\n",
    "\n",
    "# Example usage\n",
    "github_url = \"https://github.com/Rahulaher0080\"\n",
    "repositories = fetch_user_repositories(github_url)\n",
    "\n",
    "if repositories:\n",
    "    for repo in repositories:\n",
    "        print(repo[\"name\"])"
   ]
  },
  {
   "cell_type": "markdown",
   "id": "c22760f7",
   "metadata": {},
   "source": [
    "## Step2\n"
   ]
  },
  {
   "cell_type": "code",
   "execution_count": 2,
   "id": "8797be75",
   "metadata": {},
   "outputs": [
    {
     "name": "stdout",
     "output_type": "stream",
     "text": [
      "Requirement already satisfied: nbformat in c:\\users\\rahul\\anaconda3\\lib\\site-packages (5.7.0)\n",
      "Requirement already satisfied: fastjsonschema in c:\\users\\rahul\\anaconda3\\lib\\site-packages (from nbformat) (2.16.2)\n",
      "Requirement already satisfied: traitlets>=5.1 in c:\\users\\rahul\\anaconda3\\lib\\site-packages (from nbformat) (5.7.1)\n",
      "Requirement already satisfied: jupyter-core in c:\\users\\rahul\\anaconda3\\lib\\site-packages (from nbformat) (4.11.2)\n",
      "Requirement already satisfied: jsonschema>=2.6 in c:\\users\\rahul\\anaconda3\\lib\\site-packages (from nbformat) (4.16.0)\n",
      "Requirement already satisfied: pyrsistent!=0.17.0,!=0.17.1,!=0.17.2,>=0.14.0 in c:\\users\\rahul\\anaconda3\\lib\\site-packages (from jsonschema>=2.6->nbformat) (0.18.0)\n",
      "Requirement already satisfied: attrs>=17.4.0 in c:\\users\\rahul\\anaconda3\\lib\\site-packages (from jsonschema>=2.6->nbformat) (22.1.0)\n",
      "Requirement already satisfied: pywin32>=1.0 in c:\\users\\rahul\\anaconda3\\lib\\site-packages (from jupyter-core->nbformat) (305.1)\n",
      "Note: you may need to restart the kernel to use updated packages.\n"
     ]
    }
   ],
   "source": [
    "pip install nbformat"
   ]
  },
  {
   "cell_type": "code",
   "execution_count": 5,
   "id": "a2546015",
   "metadata": {},
   "outputs": [],
   "source": [
    "import os\n",
    "import nbformat\n",
    "from nbconvert.preprocessors import ExecutePreprocessor\n",
    "from nbconvert import PythonExporter\n",
    "import subprocess\n",
    "\n",
    "def preprocess_repository(repository):\n",
    "    # Download and extract the repository as a ZIP file\n",
    "    # ...\n",
    "\n",
    "    preprocessed_files = []\n",
    "\n",
    "    # Iterate over the extracted files\n",
    "    with os.scandir(\"repository_files/repository-master\") as entries:\n",
    "        for entry in entries:\n",
    "            if entry.is_file():\n",
    "                if entry.name.endswith(\".ipynb\"):\n",
    "                    # Preprocess Jupyter notebooks\n",
    "                    preprocessed_file = preprocess_jupyter_notebook(entry.path)\n",
    "                elif entry.name.endswith(\".py\"):\n",
    "                    # Preprocess Python files\n",
    "                    preprocessed_file = preprocess_python_file(entry.path)\n",
    "                else:\n",
    "                    # Skip other file types\n",
    "                    continue\n",
    "\n",
    "                preprocessed_files.append(preprocessed_file)\n",
    "\n",
    "    # Combine preprocessed files into a single input\n",
    "    combined_input = \"\\n\".join(preprocessed_files)\n",
    "\n",
    "    return combined_input\n",
    "\n",
    "\n",
    "def preprocess_jupyter_notebook(file_path):\n",
    "    # Preprocess Jupyter notebook file\n",
    "    # Execute notebook cells and convert to Python code\n",
    "    with open(file_path, \"r\") as f:\n",
    "        nb = nbformat.read(f, as_version=4)\n",
    "\n",
    "    # Execute the notebook cells\n",
    "    execute_preprocessor = ExecutePreprocessor(timeout=None)\n",
    "    execute_preprocessor.preprocess(nb, {})\n",
    "\n",
    "    # Export the notebook to Python code\n",
    "    python_exporter = PythonExporter()\n",
    "    (preprocessed_code, _) = python_exporter.from_notebook_node(nb)\n",
    "\n",
    "    return preprocessed_code\n",
    "\n",
    "\n",
    "def preprocess_python_file(file_path):\n",
    "    # Preprocess Python file\n",
    "    # Remove comments and blank lines\n",
    "    preprocessed_code = subprocess.check_output([\"sed\", \"/^\\s*#/d;/^\\s*$/d\", file_path]).decode()\n",
    "\n",
    "    return preprocessed_code\n"
   ]
  },
  {
   "cell_type": "code",
   "execution_count": null,
   "id": "096be59f",
   "metadata": {},
   "outputs": [],
   "source": []
  }
 ],
 "metadata": {
  "kernelspec": {
   "display_name": "Python 3 (ipykernel)",
   "language": "python",
   "name": "python3"
  },
  "language_info": {
   "codemirror_mode": {
    "name": "ipython",
    "version": 3
   },
   "file_extension": ".py",
   "mimetype": "text/x-python",
   "name": "python",
   "nbconvert_exporter": "python",
   "pygments_lexer": "ipython3",
   "version": "3.9.12"
  }
 },
 "nbformat": 4,
 "nbformat_minor": 5
}
